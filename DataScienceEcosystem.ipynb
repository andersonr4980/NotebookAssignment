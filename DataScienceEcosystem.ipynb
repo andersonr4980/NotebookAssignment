{
 "cells": [
  {
   "cell_type": "markdown",
   "id": "cd18b85a-929d-47f0-8ac2-024afc766848",
   "metadata": {},
   "source": [
    "# Data Science Tools and Ecosystem"
   ]
  },
  {
   "cell_type": "markdown",
   "id": "4e4155b8-b693-4e14-bc6c-a1d7e5727d69",
   "metadata": {},
   "source": [
    "In this notebook, Data Science Tools and Ecosystem are summarized"
   ]
  },
  {
   "cell_type": "markdown",
   "id": "1288f82f-823a-4de2-9d7c-a2277a658f66",
   "metadata": {},
   "source": [
    "<ol>\n",
    "<li>Python</li>\n",
    "<li>R</li>\n",
    "<li>SQL</li>\n",
    "<li>Scala</li>\n",
    "</ol>\n"
   ]
  },
  {
   "cell_type": "markdown",
   "id": "a4626d53-36ee-49c9-9453-0ef6554ea8a2",
   "metadata": {},
   "source": [
    "Some of the commonly used libraries used by Data Scientists include: \n",
    "<ol>\n",
    "    <li>NumPy</li>\n",
    "    <li>Pandas</li>\n",
    "    <li>Matplotlib</li>\n",
    "    <li>Plotly</li>\n",
    "</ol>"
   ]
  },
  {
   "cell_type": "markdown",
   "id": "797045ba-618b-4416-b5e7-c8e134eb55c4",
   "metadata": {},
   "source": [
    "<table>\n",
    "    <thead>\n",
    "        <tr><th>Data Science Tools</th></tr>\n",
    "    </thead>\n",
    "    <tbody><tr><td>Python</td></tr>\n",
    "    <tr><td>RStudio</td></tr>\n",
    "    <tr><td>Apache Spark</td></tr></tbody>\n",
    "</table>"
   ]
  },
  {
   "cell_type": "markdown",
   "id": "fb158d7f-a5db-469d-9550-2b9976eecc48",
   "metadata": {},
   "source": [
    "### Below are a few examples of evaluating arithmetic expressions in Python."
   ]
  },
  {
   "cell_type": "code",
   "execution_count": 22,
   "id": "c644a41d-cfca-4a64-a6a6-ca73dbd92bb7",
   "metadata": {},
   "outputs": [
    {
     "data": {
      "text/plain": [
       "17"
      ]
     },
     "execution_count": 22,
     "metadata": {},
     "output_type": "execute_result"
    }
   ],
   "source": [
    "# This is a simple arithmetic expression to multiply then add numbers\n",
    "(3*4)+5"
   ]
  },
  {
   "cell_type": "code",
   "execution_count": 24,
   "id": "05a5110c-ee7e-46fc-8ef2-2ff8dfea3212",
   "metadata": {},
   "outputs": [
    {
     "data": {
      "text/plain": [
       "3.3333333333333335"
      ]
     },
     "execution_count": 24,
     "metadata": {},
     "output_type": "execute_result"
    }
   ],
   "source": [
    "# This will convert 200 minutes to hours by dividing by 60.\n",
    "200/60"
   ]
  },
  {
   "cell_type": "markdown",
   "id": "025a5005-e500-43fb-bc00-aa311fa194bb",
   "metadata": {},
   "source": [
    "**Objectives:**\n",
    "<ul>\n",
    "    <li>List popular languages in Data Science</li>\n",
    "    <li>List popular libraries in Data Science</li>\n",
    "    <li>Write expressions to multiply then add integers</li>\n",
    "    <li>Write an expression to convert minutes to hours</li>\n",
    "</ul>"
   ]
  },
  {
   "cell_type": "markdown",
   "id": "6a524c6e-a46a-4af1-93a8-80f8d8589fd4",
   "metadata": {},
   "source": [
    "## Author\n",
    "Ryan Anderson"
   ]
  },
  {
   "cell_type": "code",
   "execution_count": null,
   "id": "fa257a88-b24a-4176-9ad2-82124bbb7498",
   "metadata": {},
   "outputs": [],
   "source": []
  }
 ],
 "metadata": {
  "kernelspec": {
   "display_name": "Python [conda env:base] *",
   "language": "python",
   "name": "conda-base-py"
  },
  "language_info": {
   "codemirror_mode": {
    "name": "ipython",
    "version": 3
   },
   "file_extension": ".py",
   "mimetype": "text/x-python",
   "name": "python",
   "nbconvert_exporter": "python",
   "pygments_lexer": "ipython3",
   "version": "3.12.7"
  }
 },
 "nbformat": 4,
 "nbformat_minor": 5
}
